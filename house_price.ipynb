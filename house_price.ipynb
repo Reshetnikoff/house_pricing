{
 "cells": [
  {
   "cell_type": "code",
   "execution_count": 399,
   "metadata": {},
   "outputs": [],
   "source": [
    "from copy import deepcopy\n",
    "from math import sqrt\n",
    "\n",
    "import pandas as pd\n",
    "import numpy as np\n",
    "import matplotlib.pyplot as plt\n",
    "\n",
    "from sklearn.linear_model import LinearRegression, Lasso, Ridge\n",
    "from sklearn.model_selection import GridSearchCV\n",
    "from sklearn.preprocessing import StandardScaler, LabelBinarizer\n",
    "from sklearn.model_selection import train_test_split, KFold\n",
    "from sklearn.metrics import mean_squared_error"
   ]
  },
  {
   "cell_type": "markdown",
   "metadata": {},
   "source": [
    "# Support functions"
   ]
  },
  {
   "cell_type": "code",
   "execution_count": 292,
   "metadata": {},
   "outputs": [],
   "source": [
    "def rmsle(y_test, y_pred):\n",
    "    y_test = np.log(y_test)\n",
    "    y_pred = np.log(y_pred)\n",
    "    return sqrt(mean_squared_error(y_test, y_pred))"
   ]
  },
  {
   "cell_type": "code",
   "execution_count": 293,
   "metadata": {},
   "outputs": [],
   "source": [
    "# Get score through cross validation. Need for greedy forward selection\n",
    "def score(X, y, model):\n",
    "    scores = []\n",
    "    kf = KFold(n_splits=10)\n",
    "    for train_index, test_index in kf.split(X, y):\n",
    "        X_train, X_test = X[train_index], X[test_index] \n",
    "        y_train, y_test = y[train_index], y[test_index]\n",
    "        \n",
    "        model = deepcopy(model)\n",
    "\n",
    "        model.fit(X_train, y_train)\n",
    "        y_pred = model.predict(X_test)\n",
    "        \n",
    "        scores.append(rmsle(y_test, y_pred))\n",
    "    return np.mean(scores)"
   ]
  },
  {
   "cell_type": "code",
   "execution_count": 224,
   "metadata": {},
   "outputs": [],
   "source": [
    "# Greedy forward selection realisation. This function does features selection in this work\n",
    "def greedy_forward_selection(data, y, model):\n",
    "    features = list(data.columns)\n",
    "    target_features = []\n",
    "    min_score = np.inf\n",
    "    for ind in range(len(features)):\n",
    "        target_feature = None\n",
    "        for feature in features:\n",
    "            X = data[np.concatenate((target_features, [feature]))].to_numpy()\n",
    "\n",
    "            current_score = score(X, y, model)\n",
    "\n",
    "            if current_score < min_score:\n",
    "                min_score = current_score\n",
    "                target_feature = feature\n",
    "        if target_feature is not None:\n",
    "            target_features.append(target_feature)\n",
    "            features.remove(target_feature)\n",
    "        else:\n",
    "            return target_features"
   ]
  },
  {
   "cell_type": "markdown",
   "metadata": {},
   "source": [
    "# Prepare data"
   ]
  },
  {
   "cell_type": "code",
   "execution_count": 325,
   "metadata": {},
   "outputs": [],
   "source": [
    "# Data download to python notebook\n",
    "train_data = pd.read_csv(\"train.csv\", index_col=0, header=0)\n",
    "test_data = pd.read_csv(\"test.csv\", index_col=0, header=0)\n",
    "y_train = data[\"SalePrice\"]\n",
    "y_train = y_train.to_numpy()"
   ]
  },
  {
   "cell_type": "markdown",
   "metadata": {},
   "source": [
    "Get all features. We will use future selection in future"
   ]
  },
  {
   "cell_type": "code",
   "execution_count": 229,
   "metadata": {},
   "outputs": [],
   "source": [
    "# Features classification\n",
    "# It's feature, which need to transform to linear form. And after that we'll scale it\n",
    "binary_to_linear_features = [\"LotShape\", \"LandContour\", \"Utilities\", \"LandSlope\",\n",
    "                     \"ExterQual\", \"ExterCond\", \"BsmtQual\", \"BsmtCond\", \"BsmtExposure\",\"BsmtFinType1\", \"BsmtFinType2\",\n",
    "                     \"HeatingQC\", \"KitchenQual\", \"FireplaceQu\", \"GarageFinish\", \"GarageQual\", \"GarageCond\",\n",
    "                     \"PoolQC\", \"Fence\", \"SaleType\", \"SaleCondition\"]\n",
    "# It'll be convert with one-hot-encoding\n",
    "multilabel_features = [\"MSSubClass\", \"MSZoning\", \"Street\", \"Alley\", \"LotConfig\", \"Neighborhood\", \n",
    "                       \"BldgType\", \"HouseStyle\",\"RoofStyle\", \"RoofMatl\", \"MasVnrType\", \n",
    "                       \"Foundation\", \"Heating\", \"CentralAir\", \"Electrical\", \"Functional\", \n",
    "                       \"GarageType\", \"PavedDrive\", \"MiscFeature\"]\n",
    "\n",
    "multiclass_features = [\"Condition1\", \"Condition2\", \"Exterior1st\", \"Exterior2nd\"]\n",
    "\n",
    "# It'll be scaled\n",
    "linear_features = [\"LotFrontage\", \"LotArea\", \"YearBuilt\", \"YearRemodAdd\", \"OverallQual\", \"OverallCond\", \n",
    "                   \"MasVnrArea\", \"BsmtFinSF1\", \"BsmtFinSF2\", \"BsmtUnfSF\", \"TotalBsmtSF\", \"1stFlrSF\", \n",
    "                   \"2ndFlrSF\", \"LowQualFinSF\", \"GrLivArea\", \"BsmtFullBath\", \"BsmtHalfBath\", \"FullBath\",\n",
    "                   \"HalfBath\", \"KitchenAbvGr\", \"BedroomAbvGr\", \"TotRmsAbvGrd\", \"Fireplaces\", \n",
    "                   \"GarageYrBlt\", \"GarageCars\",\"GarageArea\", \"WoodDeckSF\", \"OpenPorchSF\", \n",
    "                   \"EnclosedPorch\", \"3SsnPorch\",\"ScreenPorch\", \"PoolArea\", \"MiscVal\", \"MoSold\", \"YrSold\"]"
   ]
  },
  {
   "cell_type": "code",
   "execution_count": 230,
   "metadata": {},
   "outputs": [
    {
     "name": "stdout",
     "output_type": "stream",
     "text": [
      "{'SalePrice'}\n"
     ]
    }
   ],
   "source": [
    "# Check data\n",
    "all_features = []\n",
    "for features in [binary_to_linear_features, binary_features, \n",
    "                 add_binary_features, to_multibinary_feature, linear_features]:\n",
    "    all_features.extend(features)\n",
    "all_features = set(all_features)\n",
    "others_features = set(data.columns) - all_features\n",
    "\n",
    "print(others_features)"
   ]
  },
  {
   "cell_type": "markdown",
   "metadata": {},
   "source": [
    "Error in data description: name of \"kitchen\" -> 'KitchenAbvGr' and name of 'bedroom' -> 'BedroomAbvGr'"
   ]
  },
  {
   "cell_type": "markdown",
   "metadata": {},
   "source": [
    "## Preprocess linear features"
   ]
  },
  {
   "cell_type": "code",
   "execution_count": 347,
   "metadata": {},
   "outputs": [
    {
     "name": "stderr",
     "output_type": "stream",
     "text": [
      "/Users/Reshique/anaconda2/lib/python3.7/site-packages/pandas/core/frame.py:4259: SettingWithCopyWarning: \n",
      "A value is trying to be set on a copy of a slice from a DataFrame\n",
      "\n",
      "See the caveats in the documentation: http://pandas.pydata.org/pandas-docs/stable/user_guide/indexing.html#returning-a-view-versus-a-copy\n",
      "  **kwargs\n"
     ]
    }
   ],
   "source": [
    "# Train data prepare block\n",
    "linear_train_data = train_data[linear_features]\n",
    "linear_train_data.fillna(0, inplace=True)\n",
    "scaler = StandardScaler()\n",
    "temp_matrix = scaler.fit_transform(linear_train_data)\n",
    "linear_train_data = pd.DataFrame(temp_matrix, index=linear_train_data.index, \n",
    "                                 columns=linear_train_data.columns)"
   ]
  },
  {
   "cell_type": "code",
   "execution_count": 348,
   "metadata": {},
   "outputs": [
    {
     "name": "stderr",
     "output_type": "stream",
     "text": [
      "/Users/Reshique/anaconda2/lib/python3.7/site-packages/pandas/core/frame.py:4259: SettingWithCopyWarning: \n",
      "A value is trying to be set on a copy of a slice from a DataFrame\n",
      "\n",
      "See the caveats in the documentation: http://pandas.pydata.org/pandas-docs/stable/user_guide/indexing.html#returning-a-view-versus-a-copy\n",
      "  **kwargs\n"
     ]
    }
   ],
   "source": [
    "# Test data prepare block\n",
    "linear_test_data = test_data[linear_features]\n",
    "linear_test_data.fillna(0, inplace=True)\n",
    "\n",
    "temp_matrix = scaler.transform(linear_test_data)\n",
    "linear_test_data = pd.DataFrame(temp_matrix, index=linear_test_data.index, \n",
    "                                 columns=linear_test_data.columns)"
   ]
  },
  {
   "cell_type": "markdown",
   "metadata": {},
   "source": [
    "## Preprocess multillabel features"
   ]
  },
  {
   "cell_type": "code",
   "execution_count": 349,
   "metadata": {},
   "outputs": [],
   "source": [
    "# One-hot-encoding\n",
    "def one_hot_encoding(data, binary_features):\n",
    "    binary_data = pd.DataFrame(index=data.index)\n",
    "    for feature in binary_features:\n",
    "        pd_binary_data = data[[feature]].dropna(axis=0)\n",
    "\n",
    "        binarizer = LabelBinarizer()\n",
    "        one_binary_data = binarizer.fit_transform(pd_binary_data)\n",
    "\n",
    "        if len(binarizer.classes_) == 2:\n",
    "            one_binary_data = pd.DataFrame(one_binary_data, index=pd_binary_data.index, columns=[feature])\n",
    "        else:\n",
    "            one_binary_data = pd.DataFrame(one_binary_data, index=pd_binary_data.index, \n",
    "                                           columns=[f\"{feature}_{x}\" for x in binarizer.classes_])\n",
    "\n",
    "        binary_data = pd.merge(binary_data, one_binary_data, how=\"left\", left_index=True, right_index=True)\n",
    "    binary_data.fillna(0, inplace=True)\n",
    "    return binary_data"
   ]
  },
  {
   "cell_type": "code",
   "execution_count": 350,
   "metadata": {
    "scrolled": true
   },
   "outputs": [],
   "source": [
    "multilabel_train_data = one_hot_encoding(train_data, multilabel_features)\n",
    "multilabel_test_data = one_hot_encoding(test_data, multilabel_features)"
   ]
  },
  {
   "cell_type": "markdown",
   "metadata": {},
   "source": [
    "## Process multiclass feature"
   ]
  },
  {
   "cell_type": "code",
   "execution_count": 351,
   "metadata": {},
   "outputs": [],
   "source": [
    "# Not fine block of code\n",
    "def transform_multiclass(data, features):\n",
    "    temp_1 = one_hot_encoding(data, [features[0]])\n",
    "    temp_1.columns = [f\"{x.split('1')[0]}{x.split('1')[1]}\" for x in temp_1.columns]\n",
    "\n",
    "    temp_2 = one_hot_encoding(data, [features[1]])\n",
    "    temp_2.columns = [f\"{x.split('2')[0]}{x.split('2')[1]}\" for x in temp_2.columns]\n",
    "\n",
    "    output = pd.DataFrame(0, index=data.index, columns=list(set(temp_1.columns) | set(temp_2.columns)))\n",
    "    output = output.add(temp_1, fill_value=0)\n",
    "    output = output.add(temp_2, fill_value=0)\n",
    "    return output"
   ]
  },
  {
   "cell_type": "code",
   "execution_count": 352,
   "metadata": {},
   "outputs": [],
   "source": [
    "multiclass_train_data = pd.DataFrame()\n",
    "multiclass_train_data = pd.concat([multiclass_train_data, \n",
    "                                   transform_multiclass(train_data, [\"Condition1\", \"Condition2\"])], axis=1)\n",
    "multiclass_train_data = pd.concat([multiclass_train_data, \n",
    "                                   transform_multiclass(train_data, [\"Condition1\", \"Condition2\"])], axis=1)\n",
    "\n"
   ]
  },
  {
   "cell_type": "code",
   "execution_count": 353,
   "metadata": {},
   "outputs": [],
   "source": [
    "multiclass_test_data = pd.DataFrame()\n",
    "multiclass_test_data = pd.concat([multiclass_test_data, \n",
    "                                   transform_multiclass(test_data, [\"Condition1\", \"Condition2\"])], axis=1)\n",
    "multiclass_test_data = pd.concat([multiclass_test_data, \n",
    "                                   transform_multiclass(test_data, [\"Condition1\", \"Condition2\"])], axis=1)\n",
    "\n"
   ]
  },
  {
   "cell_type": "markdown",
   "metadata": {},
   "source": [
    "## Preprocess binary to linear features"
   ]
  },
  {
   "cell_type": "code",
   "execution_count": 354,
   "metadata": {},
   "outputs": [],
   "source": [
    "binary_to_linear_features = [\"LotShape\", \"LandContour\", \"Utilities\", \"LandSlope\",\n",
    "                     \"ExterQual\", \"ExterCond\", \"BsmtQual\", \"BsmtCond\", \"BsmtExposure\",\"BsmtFinType1\", \n",
    "                        \"BsmtFinType2\",\"HeatingQC\", \"KitchenQual\", \"FireplaceQu\", \"GarageFinish\", \n",
    "                        \"GarageQual\", \"GarageCond\",\"PoolQC\", \"Fence\", \"SaleCondition\"]"
   ]
  },
  {
   "cell_type": "code",
   "execution_count": 365,
   "metadata": {},
   "outputs": [],
   "source": [
    "LotShape_dict = {\"Reg\": 0, \"IR1\": 1, \"IR2\": 2, \"IR3\": 3}\n",
    "LandContour_dict = {\"Lvl\": 0, \"Bnk\": 1, \"HLS\": 2, \"Low\": 3}\n",
    "Utilities_dict = {\"AllPub\": 0, \"NoSewr\": 1, \"NoSeWa\": 2, \"ELO\": 3}\n",
    "LandSlope_dict = {\"Gtl\": 0, \"Mod\": 1, \"Sev\": 2}\n",
    "ExterQual_dict = {\"Ex\": 0, \"Gd\": 1, \"TA\": 2, \"Fa\": 3, \"Po\": 4}\n",
    "ExterCond_dict = {\"Ex\": 0, \"Gd\": 1, \"TA\": 2, \"Fa\": 3, \"Po\": 4}\n",
    "BsmtCond_dict = {np.NaN: 0, \"Po\": 1, \"Fa\": 2, \"TA\": 3, \"Gd\": 4, \"Ex\": 5}\n",
    "BsmtQual_dict = {np.NaN: 0, \"Po\": 1, \"Fa\": 2, \"TA\": 3, \"Gd\": 4, \"Ex\": 5}\n",
    "BsmtExposure_dict = {\"Gd\": 0, \"Av\": 1, \"Mn\": 2, \"No\": 3, np.NaN: 4}\n",
    "BsmtFinType1_dict = {np.NaN: 0, \"Unf\": 1, \"LwQ\": 2, \"Rec\": 3, \"BLQ\": 4, \"ALQ\": 5, \"GLQ\": 6}\n",
    "BsmtFinType2_dict = {np.NaN: 0, \"Unf\": 1, \"LwQ\": 2, \"Rec\": 3, \"BLQ\": 4, \"ALQ\": 5, \"GLQ\": 6}\n",
    "HeatingQC_dict = {\"Ex\": 0, \"Gd\": 1, \"TA\": 2, \"Fa\": 3, \"Po\": 4}\n",
    "KitchenQual_dict = {\"Ex\": 0, \"Gd\": 1, \"TA\": 2, \"Fa\": 3, \"Po\": 4, np.NaN: 5}\n",
    "FireplaceQu_dict = {\"Ex\": 0, \"Gd\": 1, \"TA\": 2, \"Fa\": 3, \"Po\": 4, np.NaN: 5}\n",
    "GarageFinish_dict = {\"Fin\": 0, \"RFn\": 1, \"Unf\": 2, np.NaN: 3}\n",
    "GarageQual_dict = {\"Ex\": 0, \"Gd\": 1, \"TA\": 2, \"Fa\": 3, \"Po\": 4, np.NaN: 5}\n",
    "GarageCond_dict = {\"Ex\": 0, \"Gd\": 1, \"TA\": 2, \"Fa\": 3, \"Po\": 4, np.NaN: 5}\n",
    "PoolQC_dict = {\"Ex\": 0, \"Gd\": 1, \"TA\": 2, \"Fa\": 3, np.NaN: 4}\n",
    "Fence_dict = {\"GdPrv\": 0, \"MnPrv\": 1, \"GdWo\": 2, \"MnWw\": 3, np.NaN: 4}\n",
    "SaleCondition_dict = {\"Normal\": 0, \"Abnorml\": 1, \"AdjLand\": 2, \"Alloca\": 3, \"Family\": 4, \"Partial\": 5}"
   ]
  },
  {
   "cell_type": "code",
   "execution_count": 366,
   "metadata": {},
   "outputs": [],
   "source": [
    "linear_features_dict = {\n",
    "    'LotShape': LotShape_dict,\n",
    "    'LandContour': LandContour_dict,\n",
    "    'Utilities': Utilities_dict,\n",
    "    'LandSlope': LandSlope_dict,\n",
    "    'ExterQual': ExterQual_dict,\n",
    "    'ExterCond': ExterCond_dict,\n",
    "    'BsmtQual': BsmtQual_dict,\n",
    "    'BsmtCond': BsmtCond_dict,\n",
    "    'BsmtExposure': BsmtExposure_dict,\n",
    "    'BsmtFinType1': BsmtFinType1_dict,\n",
    "    'BsmtFinType2': BsmtFinType2_dict,\n",
    "    'HeatingQC': HeatingQC_dict,\n",
    "    'KitchenQual': KitchenQual_dict,\n",
    "    'FireplaceQu': FireplaceQu_dict,\n",
    "    'GarageFinish': GarageFinish_dict,\n",
    "    'GarageQual': GarageQual_dict,\n",
    "    'GarageCond': GarageCond_dict,\n",
    "    'PoolQC': PoolQC_dict,\n",
    "    'Fence': Fence_dict,\n",
    "    'SaleCondition': SaleCondition_dict\n",
    "}"
   ]
  },
  {
   "cell_type": "code",
   "execution_count": 367,
   "metadata": {},
   "outputs": [],
   "source": [
    "def transform_binary_to_linear(data, linear_features_dict):\n",
    "    output_data = pd.DataFrame()\n",
    "    for column in data.columns:\n",
    "        temp_data = data[column]\n",
    "        output_data = pd.concat([output_data, temp_data.replace(linear_features_dict[column])], axis=1)\n",
    "    return output_data"
   ]
  },
  {
   "cell_type": "code",
   "execution_count": 368,
   "metadata": {},
   "outputs": [],
   "source": [
    "binary_to_linear_train_data = train_data[binary_to_linear_features]\n",
    "binary_to_linear_train_data = transform_binary_to_linear(binary_to_linear_train_data, linear_features_dict)\n",
    "\n",
    "scaler = StandardScaler()\n",
    "temp_matrix = scaler.fit_transform(binary_to_linear_train_data)\n",
    "binary_to_linear_train_data = pd.DataFrame(temp_matrix, index=binary_to_linear_train_data.index, \n",
    "                                     columns=binary_to_linear_train_data.columns)\n",
    "\n",
    "binary_to_linear_test_data = test_data[binary_to_linear_features]\n",
    "binary_to_linear_test_data = transform_binary_to_linear(binary_to_linear_test_data, linear_features_dict)\n",
    "temp_matrix = scaler.transform(binary_to_linear_test_data)\n",
    "binary_to_linear_test_data = pd.DataFrame(temp_matrix, index=binary_to_linear_test_data.index, \n",
    "                                     columns=binary_to_linear_test_data.columns)\n"
   ]
  },
  {
   "cell_type": "markdown",
   "metadata": {},
   "source": [
    "## Put it all together"
   ]
  },
  {
   "cell_type": "code",
   "execution_count": 369,
   "metadata": {},
   "outputs": [],
   "source": [
    "full_train_data = pd.DataFrame()\n",
    "\n",
    "# Linear data\n",
    "full_train_data = pd.concat([full_train_data, linear_train_data], axis=1)\n",
    "\n",
    "# Multilabel data\n",
    "full_train_data = pd.concat([full_train_data, multilabel_train_data], axis=1)\n",
    "\n",
    "# Binary to linear data\n",
    "full_train_data = pd.concat([full_train_data, binary_to_linear_train_data], axis=1)\n",
    "\n",
    "# Multiclass data\n",
    "full_train_data = pd.concat([full_train_data, multiclass_train_data], axis=1)"
   ]
  },
  {
   "cell_type": "code",
   "execution_count": 370,
   "metadata": {},
   "outputs": [],
   "source": [
    "full_test_data = pd.DataFrame()\n",
    "\n",
    "# Linear data\n",
    "full_test_data = pd.concat([full_test_data, linear_test_data], axis=1)\n",
    "\n",
    "# Multilabel data\n",
    "full_test_data = pd.concat([full_test_data, multilabel_test_data], axis=1)\n",
    "\n",
    "# Binary to linear data\n",
    "full_test_data = pd.concat([full_test_data, binary_to_linear_test_data], axis=1)\n",
    "\n",
    "# Multiclass data\n",
    "full_test_data = pd.concat([full_test_data, multiclass_test_data], axis=1)"
   ]
  },
  {
   "cell_type": "markdown",
   "metadata": {},
   "source": [
    "# Model Check"
   ]
  },
  {
   "cell_type": "code",
   "execution_count": 361,
   "metadata": {},
   "outputs": [],
   "source": [
    "def create_submission(X_train, y_train, X_test, model, output):\n",
    "    model.fit(X_train, y_train)\n",
    "    y_pred = model.predict(X_test)\n",
    "    data = pd.DataFrame(list(zip(X_test.index, y_pred)), columns=[\"Id\", \"SalePrice\"])\n",
    "    data.to_csv(output, sep=',', index=None, header=True)"
   ]
  },
  {
   "cell_type": "code",
   "execution_count": 362,
   "metadata": {},
   "outputs": [],
   "source": [
    "def prepare_data(X_train, X_test, features):\n",
    "    X_train = X_train[features]\n",
    "    lost_features = list(set(features) - set(X_test.columns))\n",
    "    for lost_feature in lost_features:\n",
    "        X_test[lost_feature] = 0\n",
    "    X_test = X_test[features]\n",
    "    return X_train, X_test"
   ]
  },
  {
   "cell_type": "markdown",
   "metadata": {},
   "source": [
    "## Model №1"
   ]
  },
  {
   "cell_type": "markdown",
   "metadata": {},
   "source": [
    "1) Full feature dataset\n",
    "\n",
    "2) Greedy forward selection\n",
    "\n",
    "3) Linear Regression with default paramets"
   ]
  },
  {
   "cell_type": "code",
   "execution_count": 246,
   "metadata": {},
   "outputs": [
    {
     "name": "stdout",
     "output_type": "stream",
     "text": [
      "CPU times: user 5 µs, sys: 1 µs, total: 6 µs\n",
      "Wall time: 13.1 µs\n"
     ]
    }
   ],
   "source": [
    "# Use greedy forward selection\n",
    "%time\n",
    "model = LinearRegression()\n",
    "full_target_features = greedy_forward_selection(full_train_data, y_train, model)"
   ]
  },
  {
   "cell_type": "code",
   "execution_count": 373,
   "metadata": {},
   "outputs": [
    {
     "data": {
      "text/plain": [
       "0.1489283808007663"
      ]
     },
     "execution_count": 373,
     "metadata": {},
     "output_type": "execute_result"
    }
   ],
   "source": [
    "X_train = full_train_data[full_target_features].to_numpy()\n",
    "score(X_train, y_train, model)"
   ]
  },
  {
   "cell_type": "code",
   "execution_count": 374,
   "metadata": {},
   "outputs": [],
   "source": [
    "model = LinearRegression()\n",
    "X_train, X_test = prepare_data(full_train_data, full_test_data, full_target_features)\n",
    "create_submission(X_train, y_train, X_test, model, \"./submission_1.txt\")"
   ]
  },
  {
   "cell_type": "markdown",
   "metadata": {},
   "source": [
    "Cross-validation result: 0.14893\n",
    "\n",
    "Kaggle result: 0.17797"
   ]
  },
  {
   "cell_type": "markdown",
   "metadata": {},
   "source": [
    "## Model №2"
   ]
  },
  {
   "cell_type": "markdown",
   "metadata": {},
   "source": [
    "1) Full feature datasets\n",
    "\n",
    "2) None forward selection\n",
    "\n",
    "3) Lasso"
   ]
  },
  {
   "cell_type": "code",
   "execution_count": 375,
   "metadata": {},
   "outputs": [],
   "source": [
    "X_train, X_test = prepare_data(full_train_data, full_test_data, list(full_train_data))\n",
    "X_train = X_train.to_numpy()\n",
    "X_test = X_test.to_numpy()"
   ]
  },
  {
   "cell_type": "code",
   "execution_count": 376,
   "metadata": {},
   "outputs": [
    {
     "name": "stdout",
     "output_type": "stream",
     "text": [
      "Lasso(alpha=100, copy_X=True, fit_intercept=True, max_iter=30000,\n",
      "      normalize=False, positive=False, precompute=False, random_state=None,\n",
      "      selection='cyclic', tol=0.0001, warm_start=False)\n"
     ]
    }
   ],
   "source": [
    "params = {\"alpha\": [50, 100, 150, 200]}\n",
    "gcv = GridSearchCV(Lasso(max_iter=30000), param_grid=params, cv=5)\n",
    "\n",
    "gcv.fit(X_train, y_train)\n",
    "print(gcv.best_estimator_)"
   ]
  },
  {
   "cell_type": "code",
   "execution_count": 377,
   "metadata": {},
   "outputs": [
    {
     "data": {
      "text/plain": [
       "0.15649717997252094"
      ]
     },
     "execution_count": 377,
     "metadata": {},
     "output_type": "execute_result"
    }
   ],
   "source": [
    "model = Lasso(max_iter=30000, alpha=100)\n",
    "score(X_train, y_train, model)"
   ]
  },
  {
   "cell_type": "code",
   "execution_count": 378,
   "metadata": {},
   "outputs": [],
   "source": [
    "model = Lasso(max_iter=30000, alpha=100)\n",
    "X_train, X_test = prepare_data(full_train_data, full_test_data, features)\n",
    "create_submission(X_train, y_train, X_test, model, \"./submission_2.txt\")"
   ]
  },
  {
   "cell_type": "markdown",
   "metadata": {},
   "source": [
    "Cross-validation result: 0.15649\n",
    "\n",
    "Kaggle result: 0.33572"
   ]
  },
  {
   "cell_type": "markdown",
   "metadata": {},
   "source": [
    "## Model №3"
   ]
  },
  {
   "cell_type": "markdown",
   "metadata": {},
   "source": [
    "1) Full feature datasets\n",
    "\n",
    "2) None forward selection\n",
    "\n",
    "3) Ridge"
   ]
  },
  {
   "cell_type": "code",
   "execution_count": 315,
   "metadata": {},
   "outputs": [],
   "source": [
    "X_train, X_test = prepare_data(full_train_data, full_test_data, list(full_train_data))\n",
    "X_train = X_train.to_numpy()\n",
    "X_test = X_test.to_numpy()"
   ]
  },
  {
   "cell_type": "code",
   "execution_count": 319,
   "metadata": {},
   "outputs": [
    {
     "name": "stdout",
     "output_type": "stream",
     "text": [
      "Ridge(alpha=1, copy_X=True, fit_intercept=True, max_iter=30000, normalize=False,\n",
      "      random_state=None, solver='auto', tol=0.001)\n"
     ]
    }
   ],
   "source": [
    "params = {\"alpha\": [0.5, 1, 1.5, 2]}\n",
    "gcv = GridSearchCV(Ridge(max_iter=30000), param_grid=params, cv=5)\n",
    "\n",
    "gcv.fit(X_train, y_train)\n",
    "print(gcv.best_estimator_)"
   ]
  },
  {
   "cell_type": "code",
   "execution_count": 320,
   "metadata": {},
   "outputs": [
    {
     "data": {
      "text/plain": [
       "0.1707395267489223"
      ]
     },
     "execution_count": 320,
     "metadata": {},
     "output_type": "execute_result"
    }
   ],
   "source": [
    "model = Ridge(max_iter=30000, alpha=1)\n",
    "score(X_train, y_train, model)"
   ]
  },
  {
   "cell_type": "code",
   "execution_count": 321,
   "metadata": {},
   "outputs": [],
   "source": [
    "model = Ridge(max_iter=30000, alpha=1)\n",
    "X_train, X_test = prepare_data(full_train_data, full_test_data, features)\n",
    "create_submission(X_train, y_train, X_test, model, \"./submission_3.txt\")"
   ]
  },
  {
   "cell_type": "markdown",
   "metadata": {},
   "source": [
    "Cross-validation result: 0.17073\n",
    "\n",
    "Kaggle result: 0.33554"
   ]
  },
  {
   "cell_type": "markdown",
   "metadata": {},
   "source": [
    "## Model №4"
   ]
  },
  {
   "cell_type": "markdown",
   "metadata": {},
   "source": [
    "1) Full feature datasets\n",
    "\n",
    "2) Greedy forward selection\n",
    "\n",
    "3) Ridge"
   ]
  },
  {
   "cell_type": "code",
   "execution_count": 379,
   "metadata": {},
   "outputs": [],
   "source": [
    "# Use result of greedy forward selection\n",
    "model = LinearRegression()\n",
    "X_train, X_test = prepare_data(full_train_data, full_test_data, full_target_features)"
   ]
  },
  {
   "cell_type": "code",
   "execution_count": 383,
   "metadata": {},
   "outputs": [
    {
     "name": "stdout",
     "output_type": "stream",
     "text": [
      "Ridge(alpha=0.5, copy_X=True, fit_intercept=True, max_iter=30000,\n",
      "      normalize=False, random_state=None, solver='auto', tol=0.001)\n"
     ]
    }
   ],
   "source": [
    "params = {\"alpha\": [0.1, 0.2, 0.5, 0.7, 1]}\n",
    "gcv = GridSearchCV(Ridge(max_iter=30000), param_grid=params, cv=5)\n",
    "\n",
    "gcv.fit(X_train, y_train)\n",
    "print(gcv.best_estimator_)"
   ]
  },
  {
   "cell_type": "code",
   "execution_count": 385,
   "metadata": {},
   "outputs": [],
   "source": [
    "X_train = X_train.to_numpy()\n",
    "X_test = X_test.to_numpy()"
   ]
  },
  {
   "cell_type": "code",
   "execution_count": 386,
   "metadata": {},
   "outputs": [
    {
     "data": {
      "text/plain": [
       "0.14706988874734325"
      ]
     },
     "execution_count": 386,
     "metadata": {},
     "output_type": "execute_result"
    }
   ],
   "source": [
    "model = Ridge(max_iter=30000, alpha=1)\n",
    "score(X_train, y_train, model)"
   ]
  },
  {
   "cell_type": "code",
   "execution_count": 389,
   "metadata": {},
   "outputs": [],
   "source": [
    "model = Ridge(max_iter=30000, alpha=1)\n",
    "X_train, X_test = prepare_data(full_train_data, full_test_data, full_target_features)\n",
    "create_submission(X_train, y_train, X_test, model, \"./submission_4.txt\")"
   ]
  },
  {
   "cell_type": "markdown",
   "metadata": {},
   "source": [
    "Cross-validation result: 0.147070\n",
    "\n",
    "Kaggle result: 0.17152\n",
    "\n",
    "Best result!"
   ]
  },
  {
   "cell_type": "markdown",
   "metadata": {},
   "source": [
    "## Model №5"
   ]
  },
  {
   "cell_type": "markdown",
   "metadata": {},
   "source": [
    "1) Full feature datasets\n",
    "\n",
    "2) Greedy forward selection\n",
    "\n",
    "3) Lasso"
   ]
  },
  {
   "cell_type": "code",
   "execution_count": 390,
   "metadata": {},
   "outputs": [],
   "source": [
    "# Use result of greedy forward selection\n",
    "model = LinearRegression()\n",
    "X_train, X_test = prepare_data(full_train_data, full_test_data, full_target_features)"
   ]
  },
  {
   "cell_type": "code",
   "execution_count": 393,
   "metadata": {},
   "outputs": [
    {
     "name": "stdout",
     "output_type": "stream",
     "text": [
      "Lasso(alpha=5, copy_X=True, fit_intercept=True, max_iter=30000, normalize=False,\n",
      "      positive=False, precompute=False, random_state=None, selection='cyclic',\n",
      "      tol=0.0001, warm_start=False)\n"
     ]
    }
   ],
   "source": [
    "params = {\"alpha\": [0.1, 1, 5, 10]}\n",
    "gcv = GridSearchCV(Lasso(max_iter=30000), param_grid=params, cv=5)\n",
    "\n",
    "gcv.fit(X_train, y_train)\n",
    "print(gcv.best_estimator_)"
   ]
  },
  {
   "cell_type": "code",
   "execution_count": 394,
   "metadata": {},
   "outputs": [],
   "source": [
    "X_train = X_train.to_numpy()\n",
    "X_test = X_test.to_numpy()"
   ]
  },
  {
   "cell_type": "code",
   "execution_count": 395,
   "metadata": {},
   "outputs": [
    {
     "data": {
      "text/plain": [
       "0.14867326977249795"
      ]
     },
     "execution_count": 395,
     "metadata": {},
     "output_type": "execute_result"
    }
   ],
   "source": [
    "model = Lasso(max_iter=30000, alpha=5)\n",
    "score(X_train, y_train, model)"
   ]
  },
  {
   "cell_type": "code",
   "execution_count": 397,
   "metadata": {},
   "outputs": [],
   "source": [
    "model = Lasso(max_iter=30000, alpha=1)\n",
    "X_train, X_test = prepare_data(full_train_data, full_test_data, full_target_features)\n",
    "create_submission(X_train, y_train, X_test, model, \"./submission_5.txt\")"
   ]
  },
  {
   "cell_type": "markdown",
   "metadata": {},
   "source": [
    "Cross-validation result: 0.14867\n",
    "\n",
    "Kaggle result: 0.17758"
   ]
  },
  {
   "cell_type": "markdown",
   "metadata": {},
   "source": [
    "## Plot data from cross-validation and kaggle"
   ]
  },
  {
   "cell_type": "code",
   "execution_count": 402,
   "metadata": {},
   "outputs": [
    {
     "data": {
      "image/png": "[encoded data removed]",
      "text/plain": [
       "<Figure size 432x288 with 1 Axes>"
      ]
     },
     "metadata": {
      "needs_background": "light"
     },
     "output_type": "display_data"
    }
   ],
   "source": [
    "cv_result = [0.14892, 0.15649, 0.17073, 0.14707, 0.14867]\n",
    "kaggle_result = [0.17797, 0.33572, 0.33554, 0.17152, 0.17758]\n",
    "\n",
    "plt.scatter(cv_result, kaggle_result)\n",
    "plt.xlabel(\"cv result\")\n",
    "plt.ylabel(\"kaggle result\")\n",
    "\n",
    "plt.show()"
   ]
  }
 ],
 "metadata": {
  "kernelspec": {
   "display_name": "Python 3",
   "language": "python",
   "name": "python3"
  },
  "language_info": {
   "codemirror_mode": {
    "name": "ipython",
    "version": 3
   },
   "file_extension": ".py",
   "mimetype": "text/x-python",
   "name": "python",
   "nbconvert_exporter": "python",
   "pygments_lexer": "ipython3",
   "version": "3.7.4"
  }
 },
 "nbformat": 4,
 "nbformat_minor": 2
}
